{
 "cells": [
  {
   "cell_type": "markdown",
   "id": "77cbd555-8b1d-4c1d-918d-ca8dc4bd2e93",
   "metadata": {},
   "source": [
    "# 01. Importing libraries"
   ]
  },
  {
   "cell_type": "code",
   "execution_count": 2,
   "id": "009c8c2e-7d7f-449d-a351-a7b14f615e73",
   "metadata": {},
   "outputs": [],
   "source": [
    "#Import libraries\n",
    "import pandas as pd\n",
    "import numpy as np\n",
    "import os"
   ]
  },
  {
   "cell_type": "markdown",
   "id": "eae4e205-97e0-4551-9bfa-eaada53c2bb0",
   "metadata": {},
   "source": [
    "# 02.Testing Python operators"
   ]
  },
  {
   "cell_type": "code",
   "execution_count": 2,
   "id": "d822e89c-161d-46ef-9cf8-6bf2eab39206",
   "metadata": {},
   "outputs": [],
   "source": [
    "x=50\n"
   ]
  },
  {
   "cell_type": "code",
   "execution_count": 3,
   "id": "f9243564-0001-48b3-af0d-5adfab39706e",
   "metadata": {},
   "outputs": [],
   "source": [
    "y=20"
   ]
  },
  {
   "cell_type": "code",
   "execution_count": 4,
   "id": "7f4347ed-847b-45db-b14e-4d97fe70da31",
   "metadata": {},
   "outputs": [],
   "source": [
    "z=30\n"
   ]
  },
  {
   "cell_type": "code",
   "execution_count": 5,
   "id": "1fa52f5c-6e1d-4d43-8587-3616c0915116",
   "metadata": {},
   "outputs": [
    {
     "data": {
      "text/plain": [
       "100"
      ]
     },
     "execution_count": 5,
     "metadata": {},
     "output_type": "execute_result"
    }
   ],
   "source": [
    "x+y+z #testing additions"
   ]
  },
  {
   "cell_type": "code",
   "execution_count": 22,
   "id": "285abba3-3d98-4002-a55c-aea98bc5fae4",
   "metadata": {},
   "outputs": [
    {
     "data": {
      "text/plain": [
       "100"
      ]
     },
     "execution_count": 22,
     "metadata": {},
     "output_type": "execute_result"
    }
   ],
   "source": [
    "x*2"
   ]
  },
  {
   "cell_type": "code",
   "execution_count": 6,
   "id": "54b6f3d8-755f-47bd-b955-860a1aa6d6f4",
   "metadata": {},
   "outputs": [
    {
     "data": {
      "text/plain": [
       "100"
      ]
     },
     "execution_count": 6,
     "metadata": {},
     "output_type": "execute_result"
    }
   ],
   "source": [
    "x*3-x #testing multiplications"
   ]
  },
  {
   "cell_type": "code",
   "execution_count": 8,
   "id": "3668bd44-8990-453b-ac7f-6547e9490c42",
   "metadata": {},
   "outputs": [],
   "source": [
    "a=1.95"
   ]
  },
  {
   "cell_type": "code",
   "execution_count": 9,
   "id": "4aea0f44-cfe7-4657-9de6-b453f42a15ed",
   "metadata": {},
   "outputs": [],
   "source": [
    "b=2.89"
   ]
  },
  {
   "cell_type": "code",
   "execution_count": 10,
   "id": "d868890d-1245-4e0e-b3a2-4089e657bb06",
   "metadata": {},
   "outputs": [
    {
     "data": {
      "text/plain": [
       "0.6747404844290656"
      ]
     },
     "execution_count": 10,
     "metadata": {},
     "output_type": "execute_result"
    }
   ],
   "source": [
    "a/b #testing divisions"
   ]
  },
  {
   "cell_type": "code",
   "execution_count": 12,
   "id": "38bd00fa-ea18-408b-a76a-7da353d9dbf2",
   "metadata": {},
   "outputs": [],
   "source": [
    "c='copy'"
   ]
  },
  {
   "cell_type": "code",
   "execution_count": 13,
   "id": "4ebd7c7c-8303-477f-8c65-0c31f119779b",
   "metadata": {},
   "outputs": [],
   "source": [
    "d='cat'\n"
   ]
  },
  {
   "cell_type": "code",
   "execution_count": 14,
   "id": "0394a2a4-f7da-4003-b9f5-1f1ec17a5ca0",
   "metadata": {},
   "outputs": [
    {
     "data": {
      "text/plain": [
       "'copycat'"
      ]
     },
     "execution_count": 14,
     "metadata": {},
     "output_type": "execute_result"
    }
   ],
   "source": [
    "c+d #testing concatenations"
   ]
  },
  {
   "cell_type": "code",
   "execution_count": 15,
   "id": "a3e6ba32-cc0c-4050-8c72-092157734112",
   "metadata": {},
   "outputs": [],
   "source": [
    "string1= 'construct '"
   ]
  },
  {
   "cell_type": "code",
   "execution_count": 16,
   "id": "6c6f8aa8-4488-4e2f-9566-1a3f85626bb2",
   "metadata": {},
   "outputs": [],
   "source": [
    "string2= '2 short '"
   ]
  },
  {
   "cell_type": "code",
   "execution_count": 17,
   "id": "df80b0f4-4eff-4710-aeb5-9e1d7e928c2c",
   "metadata": {},
   "outputs": [],
   "source": [
    "string3= 'sentences '"
   ]
  },
  {
   "cell_type": "code",
   "execution_count": 18,
   "id": "c06350d1-a5cb-43ba-b71b-3b52ab1de0e0",
   "metadata": {},
   "outputs": [
    {
     "data": {
      "text/plain": [
       "'construct 2 short sentences '"
      ]
     },
     "execution_count": 18,
     "metadata": {},
     "output_type": "execute_result"
    }
   ],
   "source": [
    "string1 + ''+ string2+''+string3"
   ]
  },
  {
   "cell_type": "code",
   "execution_count": 20,
   "id": "541196ce-fac2-4772-9a21-a8c5829e7842",
   "metadata": {},
   "outputs": [],
   "source": [
    "h= 'here is '"
   ]
  },
  {
   "cell_type": "code",
   "execution_count": 21,
   "id": "65ce1490-d749-4321-b56e-e524ac4d675a",
   "metadata": {},
   "outputs": [],
   "source": [
    "i='another '"
   ]
  },
  {
   "cell_type": "code",
   "execution_count": 22,
   "id": "abdce0f5-d622-426b-8e19-53f794dc478f",
   "metadata": {},
   "outputs": [],
   "source": [
    "l='sentence'\n"
   ]
  },
  {
   "cell_type": "code",
   "execution_count": 23,
   "id": "bf903d3d-be23-4745-8453-28071e05af84",
   "metadata": {},
   "outputs": [
    {
     "data": {
      "text/plain": [
       "'here is another sentence'"
      ]
     },
     "execution_count": 23,
     "metadata": {},
     "output_type": "execute_result"
    }
   ],
   "source": [
    "h+''+i+''+l"
   ]
  },
  {
   "cell_type": "code",
   "execution_count": null,
   "id": "58119dca-14df-4a77-8e67-687437ca1633",
   "metadata": {},
   "outputs": [],
   "source": []
  }
 ],
 "metadata": {
  "kernelspec": {
   "display_name": "Python 3 (ipykernel)",
   "language": "python",
   "name": "python3"
  },
  "language_info": {
   "codemirror_mode": {
    "name": "ipython",
    "version": 3
   },
   "file_extension": ".py",
   "mimetype": "text/x-python",
   "name": "python",
   "nbconvert_exporter": "python",
   "pygments_lexer": "ipython3",
   "version": "3.10.9"
  }
 },
 "nbformat": 4,
 "nbformat_minor": 5
}
