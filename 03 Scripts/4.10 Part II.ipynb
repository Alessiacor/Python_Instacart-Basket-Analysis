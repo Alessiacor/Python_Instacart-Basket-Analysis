{
 "cells": [
  {
   "cell_type": "code",
   "execution_count": 2,
   "id": "f0e0f64f",
   "metadata": {},
   "outputs": [],
   "source": [
    "import pandas as pd\n",
    "import numpy as np\n",
    "import os\n",
    "import matplotlib.pyplot as plt\n",
    "import seaborn as sns\n",
    "import scipy"
   ]
  },
  {
   "cell_type": "code",
   "execution_count": 17,
   "id": "897e43cd",
   "metadata": {},
   "outputs": [],
   "source": [
    "path = r'D:\\alessia\\Instacart basket Analysis - Alessia'"
   ]
  },
  {
   "cell_type": "code",
   "execution_count": 18,
   "id": "832e5db6",
   "metadata": {},
   "outputs": [],
   "source": [
    "df = pd.read_pickle(os.path.join(path, '02 Data', 'Prepared Data', 'final.pkl'))"
   ]
  },
  {
   "cell_type": "code",
   "execution_count": 19,
   "id": "970e5c30",
   "metadata": {},
   "outputs": [
    {
     "name": "stdout",
     "output_type": "stream",
     "text": [
      "<class 'pandas.core.frame.DataFrame'>\n",
      "Int64Index: 30964564 entries, 0 to 30964563\n",
      "Data columns (total 35 columns):\n",
      " #   Column                  Dtype   \n",
      "---  ------                  -----   \n",
      " 0   order_id                int64   \n",
      " 1   user_id                 object  \n",
      " 2   order_number            int64   \n",
      " 3   orders_day_of_week      int64   \n",
      " 4   order_hour_of_day       int64   \n",
      " 5   days_since_prior_order  float64 \n",
      " 6   product_id              int64   \n",
      " 7   add_to_cart_order       int64   \n",
      " 8   reordered               int64   \n",
      " 9   product_name            object  \n",
      " 10  aisle_id                int64   \n",
      " 11  department_id           int64   \n",
      " 12  prices                  float64 \n",
      " 13  _merge                  category\n",
      " 14   price_range_loc        object  \n",
      " 15  price_range_loc         object  \n",
      " 16  busiest_day             object  \n",
      " 17  busiest_days            object  \n",
      " 18  busiest_period_of_day   object  \n",
      " 19  max_order               int64   \n",
      " 20  loyalty_flag            object  \n",
      " 21  avg_price_order         float64 \n",
      " 22  spending_flag           object  \n",
      " 23  median_freq             float64 \n",
      " 24  frequency_flag          object  \n",
      " 25  Gender                  object  \n",
      " 26  State                   object  \n",
      " 27  Age                     int64   \n",
      " 28  date_joined             object  \n",
      " 29  n_dependants            int64   \n",
      " 30  fam_status              object  \n",
      " 31  income                  int64   \n",
      " 32  Region                  object  \n",
      " 33  activity_of_customer    object  \n",
      " 34  department              object  \n",
      "dtypes: category(1), float64(4), int64(13), object(17)\n",
      "memory usage: 8.1+ GB\n"
     ]
    }
   ],
   "source": [
    "df.info()"
   ]
  },
  {
   "cell_type": "code",
   "execution_count": 20,
   "id": "5f8fc478",
   "metadata": {},
   "outputs": [
    {
     "data": {
      "text/html": [
       "<div>\n",
       "<style scoped>\n",
       "    .dataframe tbody tr th:only-of-type {\n",
       "        vertical-align: middle;\n",
       "    }\n",
       "\n",
       "    .dataframe tbody tr th {\n",
       "        vertical-align: top;\n",
       "    }\n",
       "\n",
       "    .dataframe thead th {\n",
       "        text-align: right;\n",
       "    }\n",
       "</style>\n",
       "<table border=\"1\" class=\"dataframe\">\n",
       "  <thead>\n",
       "    <tr style=\"text-align: right;\">\n",
       "      <th></th>\n",
       "      <th>order_id</th>\n",
       "      <th>user_id</th>\n",
       "      <th>order_number</th>\n",
       "      <th>orders_day_of_week</th>\n",
       "      <th>order_hour_of_day</th>\n",
       "      <th>days_since_prior_order</th>\n",
       "      <th>product_id</th>\n",
       "      <th>add_to_cart_order</th>\n",
       "      <th>reordered</th>\n",
       "      <th>product_name</th>\n",
       "      <th>...</th>\n",
       "      <th>Gender</th>\n",
       "      <th>State</th>\n",
       "      <th>Age</th>\n",
       "      <th>date_joined</th>\n",
       "      <th>n_dependants</th>\n",
       "      <th>fam_status</th>\n",
       "      <th>income</th>\n",
       "      <th>Region</th>\n",
       "      <th>activity_of_customer</th>\n",
       "      <th>department</th>\n",
       "    </tr>\n",
       "  </thead>\n",
       "  <tbody>\n",
       "    <tr>\n",
       "      <th>0</th>\n",
       "      <td>2539329</td>\n",
       "      <td>1</td>\n",
       "      <td>1</td>\n",
       "      <td>2</td>\n",
       "      <td>8</td>\n",
       "      <td>NaN</td>\n",
       "      <td>196</td>\n",
       "      <td>1</td>\n",
       "      <td>0</td>\n",
       "      <td>Soda</td>\n",
       "      <td>...</td>\n",
       "      <td>Female</td>\n",
       "      <td>Alabama</td>\n",
       "      <td>31</td>\n",
       "      <td>2/17/2019</td>\n",
       "      <td>3</td>\n",
       "      <td>married</td>\n",
       "      <td>40423</td>\n",
       "      <td>South</td>\n",
       "      <td>High order customer</td>\n",
       "      <td>beverages</td>\n",
       "    </tr>\n",
       "    <tr>\n",
       "      <th>1</th>\n",
       "      <td>2398795</td>\n",
       "      <td>1</td>\n",
       "      <td>2</td>\n",
       "      <td>3</td>\n",
       "      <td>7</td>\n",
       "      <td>15.0</td>\n",
       "      <td>196</td>\n",
       "      <td>1</td>\n",
       "      <td>1</td>\n",
       "      <td>Soda</td>\n",
       "      <td>...</td>\n",
       "      <td>Female</td>\n",
       "      <td>Alabama</td>\n",
       "      <td>31</td>\n",
       "      <td>2/17/2019</td>\n",
       "      <td>3</td>\n",
       "      <td>married</td>\n",
       "      <td>40423</td>\n",
       "      <td>South</td>\n",
       "      <td>High order customer</td>\n",
       "      <td>beverages</td>\n",
       "    </tr>\n",
       "    <tr>\n",
       "      <th>2</th>\n",
       "      <td>473747</td>\n",
       "      <td>1</td>\n",
       "      <td>3</td>\n",
       "      <td>3</td>\n",
       "      <td>12</td>\n",
       "      <td>21.0</td>\n",
       "      <td>196</td>\n",
       "      <td>1</td>\n",
       "      <td>1</td>\n",
       "      <td>Soda</td>\n",
       "      <td>...</td>\n",
       "      <td>Female</td>\n",
       "      <td>Alabama</td>\n",
       "      <td>31</td>\n",
       "      <td>2/17/2019</td>\n",
       "      <td>3</td>\n",
       "      <td>married</td>\n",
       "      <td>40423</td>\n",
       "      <td>South</td>\n",
       "      <td>High order customer</td>\n",
       "      <td>beverages</td>\n",
       "    </tr>\n",
       "    <tr>\n",
       "      <th>3</th>\n",
       "      <td>2254736</td>\n",
       "      <td>1</td>\n",
       "      <td>4</td>\n",
       "      <td>4</td>\n",
       "      <td>7</td>\n",
       "      <td>29.0</td>\n",
       "      <td>196</td>\n",
       "      <td>1</td>\n",
       "      <td>1</td>\n",
       "      <td>Soda</td>\n",
       "      <td>...</td>\n",
       "      <td>Female</td>\n",
       "      <td>Alabama</td>\n",
       "      <td>31</td>\n",
       "      <td>2/17/2019</td>\n",
       "      <td>3</td>\n",
       "      <td>married</td>\n",
       "      <td>40423</td>\n",
       "      <td>South</td>\n",
       "      <td>High order customer</td>\n",
       "      <td>beverages</td>\n",
       "    </tr>\n",
       "    <tr>\n",
       "      <th>4</th>\n",
       "      <td>431534</td>\n",
       "      <td>1</td>\n",
       "      <td>5</td>\n",
       "      <td>4</td>\n",
       "      <td>15</td>\n",
       "      <td>28.0</td>\n",
       "      <td>196</td>\n",
       "      <td>1</td>\n",
       "      <td>1</td>\n",
       "      <td>Soda</td>\n",
       "      <td>...</td>\n",
       "      <td>Female</td>\n",
       "      <td>Alabama</td>\n",
       "      <td>31</td>\n",
       "      <td>2/17/2019</td>\n",
       "      <td>3</td>\n",
       "      <td>married</td>\n",
       "      <td>40423</td>\n",
       "      <td>South</td>\n",
       "      <td>High order customer</td>\n",
       "      <td>beverages</td>\n",
       "    </tr>\n",
       "  </tbody>\n",
       "</table>\n",
       "<p>5 rows × 35 columns</p>\n",
       "</div>"
      ],
      "text/plain": [
       "   order_id user_id  order_number  orders_day_of_week  order_hour_of_day  \\\n",
       "0   2539329       1             1                   2                  8   \n",
       "1   2398795       1             2                   3                  7   \n",
       "2    473747       1             3                   3                 12   \n",
       "3   2254736       1             4                   4                  7   \n",
       "4    431534       1             5                   4                 15   \n",
       "\n",
       "   days_since_prior_order  product_id  add_to_cart_order  reordered  \\\n",
       "0                     NaN         196                  1          0   \n",
       "1                    15.0         196                  1          1   \n",
       "2                    21.0         196                  1          1   \n",
       "3                    29.0         196                  1          1   \n",
       "4                    28.0         196                  1          1   \n",
       "\n",
       "  product_name  ...  Gender    State  Age date_joined n_dependants fam_status  \\\n",
       "0         Soda  ...  Female  Alabama   31   2/17/2019            3    married   \n",
       "1         Soda  ...  Female  Alabama   31   2/17/2019            3    married   \n",
       "2         Soda  ...  Female  Alabama   31   2/17/2019            3    married   \n",
       "3         Soda  ...  Female  Alabama   31   2/17/2019            3    married   \n",
       "4         Soda  ...  Female  Alabama   31   2/17/2019            3    married   \n",
       "\n",
       "  income Region activity_of_customer  department  \n",
       "0  40423  South  High order customer   beverages  \n",
       "1  40423  South  High order customer   beverages  \n",
       "2  40423  South  High order customer   beverages  \n",
       "3  40423  South  High order customer   beverages  \n",
       "4  40423  South  High order customer   beverages  \n",
       "\n",
       "[5 rows x 35 columns]"
      ]
     },
     "execution_count": 20,
     "metadata": {},
     "output_type": "execute_result"
    }
   ],
   "source": [
    "df.head()"
   ]
  },
  {
   "cell_type": "markdown",
   "id": "a5d25e09",
   "metadata": {},
   "source": [
    "# 5.  PART II - Create a profiling variable based on age, income, certain goods in the “department_id” column, and number of dependents. "
   ]
  },
  {
   "cell_type": "markdown",
   "id": "3f3eeeaa",
   "metadata": {},
   "source": [
    "***Comment: please note I had to stop the excercise halfway. Now I need to complete it.***"
   ]
  },
  {
   "cell_type": "markdown",
   "id": "f8863afe",
   "metadata": {},
   "source": [
    "**VARIABLE - AGE**"
   ]
  },
  {
   "cell_type": "code",
   "execution_count": 21,
   "id": "fcf199f1",
   "metadata": {},
   "outputs": [],
   "source": [
    "df.loc[df['Age']>60,'age_flag']='Senior'\n",
    "df.loc[(df['Age']<=60) & (df['Age']>40),'age_flag']='Middle-age'\n",
    "df.loc[df['Age']<=40,'age_flag']='Young adult'"
   ]
  },
  {
   "cell_type": "code",
   "execution_count": 22,
   "id": "2fcff6b3",
   "metadata": {},
   "outputs": [
    {
     "data": {
      "text/plain": [
       "Young adult    11148433\n",
       "Senior         10112607\n",
       "Middle-age      9703524\n",
       "Name: age_flag, dtype: int64"
      ]
     },
     "execution_count": 22,
     "metadata": {},
     "output_type": "execute_result"
    }
   ],
   "source": [
    "df['age_flag'].value_counts(dropna=False)"
   ]
  },
  {
   "cell_type": "markdown",
   "id": "81d799f7",
   "metadata": {},
   "source": [
    "***running some checks***"
   ]
  },
  {
   "cell_type": "code",
   "execution_count": 23,
   "id": "f2c90a86",
   "metadata": {
    "scrolled": true
   },
   "outputs": [
    {
     "data": {
      "text/plain": [
       "30964564"
      ]
     },
     "execution_count": 23,
     "metadata": {},
     "output_type": "execute_result"
    }
   ],
   "source": [
    "df['age_flag'].value_counts().sum()"
   ]
  },
  {
   "cell_type": "code",
   "execution_count": 24,
   "id": "f73d0b0b",
   "metadata": {},
   "outputs": [
    {
     "data": {
      "text/plain": [
       "(30964564, 36)"
      ]
     },
     "execution_count": 24,
     "metadata": {},
     "output_type": "execute_result"
    }
   ],
   "source": [
    "df.shape"
   ]
  },
  {
   "cell_type": "code",
   "execution_count": 25,
   "id": "b23cf90f",
   "metadata": {},
   "outputs": [
    {
     "name": "stdout",
     "output_type": "stream",
     "text": [
      "<class 'pandas.core.frame.DataFrame'>\n",
      "Int64Index: 30964564 entries, 0 to 30964563\n",
      "Data columns (total 36 columns):\n",
      " #   Column                  Dtype   \n",
      "---  ------                  -----   \n",
      " 0   order_id                int64   \n",
      " 1   user_id                 object  \n",
      " 2   order_number            int64   \n",
      " 3   orders_day_of_week      int64   \n",
      " 4   order_hour_of_day       int64   \n",
      " 5   days_since_prior_order  float64 \n",
      " 6   product_id              int64   \n",
      " 7   add_to_cart_order       int64   \n",
      " 8   reordered               int64   \n",
      " 9   product_name            object  \n",
      " 10  aisle_id                int64   \n",
      " 11  department_id           int64   \n",
      " 12  prices                  float64 \n",
      " 13  _merge                  category\n",
      " 14   price_range_loc        object  \n",
      " 15  price_range_loc         object  \n",
      " 16  busiest_day             object  \n",
      " 17  busiest_days            object  \n",
      " 18  busiest_period_of_day   object  \n",
      " 19  max_order               int64   \n",
      " 20  loyalty_flag            object  \n",
      " 21  avg_price_order         float64 \n",
      " 22  spending_flag           object  \n",
      " 23  median_freq             float64 \n",
      " 24  frequency_flag          object  \n",
      " 25  Gender                  object  \n",
      " 26  State                   object  \n",
      " 27  Age                     int64   \n",
      " 28  date_joined             object  \n",
      " 29  n_dependants            int64   \n",
      " 30  fam_status              object  \n",
      " 31  income                  int64   \n",
      " 32  Region                  object  \n",
      " 33  activity_of_customer    object  \n",
      " 34  department              object  \n",
      " 35  age_flag                object  \n",
      "dtypes: category(1), float64(4), int64(13), object(18)\n",
      "memory usage: 8.3+ GB\n"
     ]
    }
   ],
   "source": [
    "df.info()"
   ]
  },
  {
   "cell_type": "markdown",
   "id": "c9dbfe77",
   "metadata": {},
   "source": [
    "**VARIABLE - INCOME**"
   ]
  },
  {
   "cell_type": "code",
   "execution_count": 26,
   "id": "88b83128",
   "metadata": {},
   "outputs": [],
   "source": [
    "df.loc[df['income']>100000,'income_flag']='High Income'\n",
    "df.loc[(df['income']<=100000) & (df['income']>30000),'income_flag']='Middle Income'\n",
    "df.loc[df['income']<=30000,'income_flag']='Low income'"
   ]
  },
  {
   "cell_type": "markdown",
   "id": "01594dba",
   "metadata": {},
   "source": [
    "***running checks***"
   ]
  },
  {
   "cell_type": "code",
   "execution_count": 27,
   "id": "0b791c57",
   "metadata": {},
   "outputs": [
    {
     "data": {
      "text/plain": [
       "Middle Income    16563404\n",
       "High Income      14207028\n",
       "Low income         194132\n",
       "Name: income_flag, dtype: int64"
      ]
     },
     "execution_count": 27,
     "metadata": {},
     "output_type": "execute_result"
    }
   ],
   "source": [
    "df['income_flag'].value_counts(dropna=False)"
   ]
  },
  {
   "cell_type": "code",
   "execution_count": 28,
   "id": "f27d0976",
   "metadata": {},
   "outputs": [
    {
     "data": {
      "text/plain": [
       "30964564"
      ]
     },
     "execution_count": 28,
     "metadata": {},
     "output_type": "execute_result"
    }
   ],
   "source": [
    "df['income_flag'].value_counts().sum()"
   ]
  },
  {
   "cell_type": "markdown",
   "id": "aeef9864",
   "metadata": {},
   "source": [
    "**VARIABLE - GOODS**"
   ]
  },
  {
   "cell_type": "code",
   "execution_count": 29,
   "id": "c0d71180",
   "metadata": {},
   "outputs": [
    {
     "data": {
      "text/html": [
       "<div>\n",
       "<style scoped>\n",
       "    .dataframe tbody tr th:only-of-type {\n",
       "        vertical-align: middle;\n",
       "    }\n",
       "\n",
       "    .dataframe tbody tr th {\n",
       "        vertical-align: top;\n",
       "    }\n",
       "\n",
       "    .dataframe thead th {\n",
       "        text-align: right;\n",
       "    }\n",
       "</style>\n",
       "<table border=\"1\" class=\"dataframe\">\n",
       "  <thead>\n",
       "    <tr style=\"text-align: right;\">\n",
       "      <th></th>\n",
       "      <th>department_id</th>\n",
       "      <th>department</th>\n",
       "    </tr>\n",
       "  </thead>\n",
       "  <tbody>\n",
       "    <tr>\n",
       "      <th>1</th>\n",
       "      <td>7</td>\n",
       "      <td>beverages</td>\n",
       "    </tr>\n",
       "    <tr>\n",
       "      <th>2</th>\n",
       "      <td>7</td>\n",
       "      <td>beverages</td>\n",
       "    </tr>\n",
       "    <tr>\n",
       "      <th>3</th>\n",
       "      <td>7</td>\n",
       "      <td>beverages</td>\n",
       "    </tr>\n",
       "  </tbody>\n",
       "</table>\n",
       "</div>"
      ],
      "text/plain": [
       "   department_id department\n",
       "1              7  beverages\n",
       "2              7  beverages\n",
       "3              7  beverages"
      ]
     },
     "execution_count": 29,
     "metadata": {},
     "output_type": "execute_result"
    }
   ],
   "source": [
    "df.loc[1:3, ['department_id', 'department']]"
   ]
  },
  {
   "cell_type": "markdown",
   "id": "7b1e7a99",
   "metadata": {},
   "source": [
    "**VARIABLE - FAMILY STATUS**"
   ]
  },
  {
   "cell_type": "code",
   "execution_count": 30,
   "id": "5bba6c53",
   "metadata": {},
   "outputs": [
    {
     "data": {
      "text/html": [
       "<div>\n",
       "<style scoped>\n",
       "    .dataframe tbody tr th:only-of-type {\n",
       "        vertical-align: middle;\n",
       "    }\n",
       "\n",
       "    .dataframe tbody tr th {\n",
       "        vertical-align: top;\n",
       "    }\n",
       "\n",
       "    .dataframe thead th {\n",
       "        text-align: right;\n",
       "    }\n",
       "</style>\n",
       "<table border=\"1\" class=\"dataframe\">\n",
       "  <thead>\n",
       "    <tr style=\"text-align: right;\">\n",
       "      <th></th>\n",
       "      <th>n_dependants</th>\n",
       "      <th>fam_status</th>\n",
       "    </tr>\n",
       "  </thead>\n",
       "  <tbody>\n",
       "    <tr>\n",
       "      <th>1</th>\n",
       "      <td>3</td>\n",
       "      <td>married</td>\n",
       "    </tr>\n",
       "    <tr>\n",
       "      <th>2</th>\n",
       "      <td>3</td>\n",
       "      <td>married</td>\n",
       "    </tr>\n",
       "    <tr>\n",
       "      <th>3</th>\n",
       "      <td>3</td>\n",
       "      <td>married</td>\n",
       "    </tr>\n",
       "  </tbody>\n",
       "</table>\n",
       "</div>"
      ],
      "text/plain": [
       "   n_dependants fam_status\n",
       "1             3    married\n",
       "2             3    married\n",
       "3             3    married"
      ]
     },
     "execution_count": 30,
     "metadata": {},
     "output_type": "execute_result"
    }
   ],
   "source": [
    "df.loc[1:3, ['n_dependants', 'fam_status']]"
   ]
  },
  {
   "cell_type": "code",
   "execution_count": 31,
   "id": "4c2a127f",
   "metadata": {},
   "outputs": [],
   "source": [
    "df.loc[df ['n_dependants']==0,'kids_flag']='no-kids'\n",
    "df.loc[df ['n_dependants']!=0,'kids_flag']='kids'"
   ]
  },
  {
   "cell_type": "markdown",
   "id": "f38afdd6",
   "metadata": {},
   "source": [
    "***check it all***"
   ]
  },
  {
   "cell_type": "code",
   "execution_count": 32,
   "id": "90ac6a99",
   "metadata": {},
   "outputs": [
    {
     "data": {
      "text/plain": [
       "kids       23224883\n",
       "no-kids     7739681\n",
       "Name: kids_flag, dtype: int64"
      ]
     },
     "execution_count": 32,
     "metadata": {},
     "output_type": "execute_result"
    }
   ],
   "source": [
    "df['kids_flag'].value_counts(dropna=False)"
   ]
  },
  {
   "cell_type": "code",
   "execution_count": 33,
   "id": "1d465901",
   "metadata": {},
   "outputs": [
    {
     "data": {
      "text/plain": [
       "30964564"
      ]
     },
     "execution_count": 33,
     "metadata": {},
     "output_type": "execute_result"
    }
   ],
   "source": [
    "df['kids_flag'].value_counts().sum()"
   ]
  },
  {
   "cell_type": "markdown",
   "id": "5922ef95",
   "metadata": {},
   "source": [
    "# 6. Create an appropriate visualization to show the distribution of profiles."
   ]
  },
  {
   "cell_type": "markdown",
   "id": "9f45ce5d",
   "metadata": {},
   "source": [
    "**Age profile**"
   ]
  },
  {
   "cell_type": "code",
   "execution_count": 34,
   "id": "cd58334a",
   "metadata": {},
   "outputs": [
    {
     "data": {
      "image/png": "[encoded data removed]",
      "text/plain": [
       "<Figure size 640x480 with 1 Axes>"
      ]
     },
     "metadata": {},
     "output_type": "display_data"
    }
   ],
   "source": [
    "age_profile=df['age_flag'].value_counts().plot.pie(title='AGE PROFILE',label='',autopct=('%1.f%%'))"
   ]
  },
  {
   "cell_type": "markdown",
   "id": "010cc41a",
   "metadata": {},
   "source": [
    "**Income profile**"
   ]
  },
  {
   "cell_type": "code",
   "execution_count": 35,
   "id": "af2b06d3",
   "metadata": {},
   "outputs": [
    {
     "data": {
      "image/png": "[encoded data removed]",
      "text/plain": [
       "<Figure size 640x480 with 1 Axes>"
      ]
     },
     "metadata": {},
     "output_type": "display_data"
    }
   ],
   "source": [
    "income_profile=df['income_flag'].value_counts().plot.pie(title='INCOME PROFILE',label='',autopct=('%1.f%%'))"
   ]
  },
  {
   "cell_type": "markdown",
   "id": "a5488c9a",
   "metadata": {},
   "source": [
    "**Goods profile**"
   ]
  },
  {
   "cell_type": "code",
   "execution_count": 36,
   "id": "04f134c4",
   "metadata": {},
   "outputs": [
    {
     "data": {
      "image/png": "[encoded data removed]",
      "text/plain": [
       "<Figure size 640x480 with 1 Axes>"
      ]
     },
     "metadata": {},
     "output_type": "display_data"
    }
   ],
   "source": [
    "goods_profile = df ['department'].value_counts().plot.bar()"
   ]
  },
  {
   "cell_type": "markdown",
   "id": "3679da78",
   "metadata": {},
   "source": [
    "**Family status profile**"
   ]
  },
  {
   "cell_type": "code",
   "execution_count": 37,
   "id": "f3f67f3f",
   "metadata": {},
   "outputs": [
    {
     "data": {
      "image/png": "[encoded data removed]",
      "text/plain": [
       "<Figure size 640x480 with 1 Axes>"
      ]
     },
     "metadata": {},
     "output_type": "display_data"
    }
   ],
   "source": [
    "family_status_profile=df['kids_flag'].value_counts().plot.pie(title='FAMILY STATUS PROFILE',label='',autopct=('%1.f%%'))"
   ]
  },
  {
   "cell_type": "markdown",
   "id": "f84d982c",
   "metadata": {},
   "source": [
    "**Exporting everything**"
   ]
  },
  {
   "cell_type": "code",
   "execution_count": 39,
   "id": "d34375f4",
   "metadata": {},
   "outputs": [],
   "source": [
    "age_profile.figure.savefig(os.path.join(path,'04 Analysis','Visualizations','age_profile.png'))"
   ]
  },
  {
   "cell_type": "code",
   "execution_count": 40,
   "id": "1a127ba8",
   "metadata": {},
   "outputs": [],
   "source": [
    "income_profile.figure.savefig(os.path.join(path,'04 Analysis','Visualizations','income_profile.png'))"
   ]
  },
  {
   "cell_type": "code",
   "execution_count": 41,
   "id": "2d38241f",
   "metadata": {},
   "outputs": [],
   "source": [
    "goods_profile.figure.savefig(os.path.join(path,'04 Analysis','Visualizations','goods_profile.png'))"
   ]
  },
  {
   "cell_type": "code",
   "execution_count": 42,
   "id": "7ef4cae9",
   "metadata": {},
   "outputs": [],
   "source": [
    "family_status_profile.figure.savefig(os.path.join(path,'04 Analysis','Visualizations','family_status_profile.png'))"
   ]
  },
  {
   "cell_type": "markdown",
   "id": "41d079d2",
   "metadata": {},
   "source": [
    "# 7. Aggregate the max, mean, and min variables on a customer-profile level for usage frequency and expenditure."
   ]
  },
  {
   "cell_type": "markdown",
   "id": "4bd3c613",
   "metadata": {},
   "source": [
    "## Age"
   ]
  },
  {
   "cell_type": "code",
   "execution_count": 43,
   "id": "21402e03",
   "metadata": {},
   "outputs": [],
   "source": [
    "age_stats=df.groupby(['age_flag']).agg({'days_since_prior_order':['min','max','mean'],'prices':['min','max','mean']})"
   ]
  },
  {
   "cell_type": "code",
   "execution_count": 44,
   "id": "8dc426be",
   "metadata": {},
   "outputs": [
    {
     "data": {
      "text/html": [
       "<div>\n",
       "<style scoped>\n",
       "    .dataframe tbody tr th:only-of-type {\n",
       "        vertical-align: middle;\n",
       "    }\n",
       "\n",
       "    .dataframe tbody tr th {\n",
       "        vertical-align: top;\n",
       "    }\n",
       "\n",
       "    .dataframe thead tr th {\n",
       "        text-align: left;\n",
       "    }\n",
       "\n",
       "    .dataframe thead tr:last-of-type th {\n",
       "        text-align: right;\n",
       "    }\n",
       "</style>\n",
       "<table border=\"1\" class=\"dataframe\">\n",
       "  <thead>\n",
       "    <tr>\n",
       "      <th></th>\n",
       "      <th colspan=\"3\" halign=\"left\">days_since_prior_order</th>\n",
       "      <th colspan=\"3\" halign=\"left\">prices</th>\n",
       "    </tr>\n",
       "    <tr>\n",
       "      <th></th>\n",
       "      <th>min</th>\n",
       "      <th>max</th>\n",
       "      <th>mean</th>\n",
       "      <th>min</th>\n",
       "      <th>max</th>\n",
       "      <th>mean</th>\n",
       "    </tr>\n",
       "    <tr>\n",
       "      <th>age_flag</th>\n",
       "      <th></th>\n",
       "      <th></th>\n",
       "      <th></th>\n",
       "      <th></th>\n",
       "      <th></th>\n",
       "      <th></th>\n",
       "    </tr>\n",
       "  </thead>\n",
       "  <tbody>\n",
       "    <tr>\n",
       "      <th>Middle-age</th>\n",
       "      <td>0.0</td>\n",
       "      <td>30.0</td>\n",
       "      <td>10.826162</td>\n",
       "      <td>1.0</td>\n",
       "      <td>99999.0</td>\n",
       "      <td>11.894440</td>\n",
       "    </tr>\n",
       "    <tr>\n",
       "      <th>Senior</th>\n",
       "      <td>0.0</td>\n",
       "      <td>30.0</td>\n",
       "      <td>10.791879</td>\n",
       "      <td>1.0</td>\n",
       "      <td>99999.0</td>\n",
       "      <td>11.806149</td>\n",
       "    </tr>\n",
       "    <tr>\n",
       "      <th>Young adult</th>\n",
       "      <td>0.0</td>\n",
       "      <td>30.0</td>\n",
       "      <td>10.813201</td>\n",
       "      <td>1.0</td>\n",
       "      <td>99999.0</td>\n",
       "      <td>12.083075</td>\n",
       "    </tr>\n",
       "  </tbody>\n",
       "</table>\n",
       "</div>"
      ],
      "text/plain": [
       "            days_since_prior_order                  prices                    \n",
       "                               min   max       mean    min      max       mean\n",
       "age_flag                                                                      \n",
       "Middle-age                     0.0  30.0  10.826162    1.0  99999.0  11.894440\n",
       "Senior                         0.0  30.0  10.791879    1.0  99999.0  11.806149\n",
       "Young adult                    0.0  30.0  10.813201    1.0  99999.0  12.083075"
      ]
     },
     "execution_count": 44,
     "metadata": {},
     "output_type": "execute_result"
    }
   ],
   "source": [
    "age_stats"
   ]
  },
  {
   "cell_type": "markdown",
   "id": "a01c09d6",
   "metadata": {},
   "source": [
    "## Income"
   ]
  },
  {
   "cell_type": "code",
   "execution_count": 45,
   "id": "c7148dba",
   "metadata": {},
   "outputs": [],
   "source": [
    "income_stats=df.groupby(['income_flag']).agg({'days_since_prior_order':['min','max','mean'],'prices':['min','max','mean']})"
   ]
  },
  {
   "cell_type": "code",
   "execution_count": 46,
   "id": "0456d11c",
   "metadata": {},
   "outputs": [
    {
     "data": {
      "text/html": [
       "<div>\n",
       "<style scoped>\n",
       "    .dataframe tbody tr th:only-of-type {\n",
       "        vertical-align: middle;\n",
       "    }\n",
       "\n",
       "    .dataframe tbody tr th {\n",
       "        vertical-align: top;\n",
       "    }\n",
       "\n",
       "    .dataframe thead tr th {\n",
       "        text-align: left;\n",
       "    }\n",
       "\n",
       "    .dataframe thead tr:last-of-type th {\n",
       "        text-align: right;\n",
       "    }\n",
       "</style>\n",
       "<table border=\"1\" class=\"dataframe\">\n",
       "  <thead>\n",
       "    <tr>\n",
       "      <th></th>\n",
       "      <th colspan=\"3\" halign=\"left\">days_since_prior_order</th>\n",
       "      <th colspan=\"3\" halign=\"left\">prices</th>\n",
       "    </tr>\n",
       "    <tr>\n",
       "      <th></th>\n",
       "      <th>min</th>\n",
       "      <th>max</th>\n",
       "      <th>mean</th>\n",
       "      <th>min</th>\n",
       "      <th>max</th>\n",
       "      <th>mean</th>\n",
       "    </tr>\n",
       "    <tr>\n",
       "      <th>income_flag</th>\n",
       "      <th></th>\n",
       "      <th></th>\n",
       "      <th></th>\n",
       "      <th></th>\n",
       "      <th></th>\n",
       "      <th></th>\n",
       "    </tr>\n",
       "  </thead>\n",
       "  <tbody>\n",
       "    <tr>\n",
       "      <th>High Income</th>\n",
       "      <td>0.0</td>\n",
       "      <td>30.0</td>\n",
       "      <td>10.769663</td>\n",
       "      <td>1.0</td>\n",
       "      <td>99999.0</td>\n",
       "      <td>16.461733</td>\n",
       "    </tr>\n",
       "    <tr>\n",
       "      <th>Low income</th>\n",
       "      <td>0.0</td>\n",
       "      <td>30.0</td>\n",
       "      <td>11.595375</td>\n",
       "      <td>1.0</td>\n",
       "      <td>25.0</td>\n",
       "      <td>6.532439</td>\n",
       "    </tr>\n",
       "    <tr>\n",
       "      <th>Middle Income</th>\n",
       "      <td>0.0</td>\n",
       "      <td>30.0</td>\n",
       "      <td>10.836047</td>\n",
       "      <td>1.0</td>\n",
       "      <td>99999.0</td>\n",
       "      <td>8.112814</td>\n",
       "    </tr>\n",
       "  </tbody>\n",
       "</table>\n",
       "</div>"
      ],
      "text/plain": [
       "              days_since_prior_order                  prices           \\\n",
       "                                 min   max       mean    min      max   \n",
       "income_flag                                                             \n",
       "High Income                      0.0  30.0  10.769663    1.0  99999.0   \n",
       "Low income                       0.0  30.0  11.595375    1.0     25.0   \n",
       "Middle Income                    0.0  30.0  10.836047    1.0  99999.0   \n",
       "\n",
       "                          \n",
       "                    mean  \n",
       "income_flag               \n",
       "High Income    16.461733  \n",
       "Low income      6.532439  \n",
       "Middle Income   8.112814  "
      ]
     },
     "execution_count": 46,
     "metadata": {},
     "output_type": "execute_result"
    }
   ],
   "source": [
    "income_stats"
   ]
  },
  {
   "cell_type": "markdown",
   "id": "6f095018",
   "metadata": {},
   "source": [
    "## Goods"
   ]
  },
  {
   "cell_type": "code",
   "execution_count": 47,
   "id": "9d47292b",
   "metadata": {},
   "outputs": [],
   "source": [
    "goods_stats=df.groupby(['department']).agg({'days_since_prior_order':['min','max','mean'],'prices':['min','max','mean']})"
   ]
  },
  {
   "cell_type": "code",
   "execution_count": 48,
   "id": "2b38d7db",
   "metadata": {},
   "outputs": [
    {
     "data": {
      "text/html": [
       "<div>\n",
       "<style scoped>\n",
       "    .dataframe tbody tr th:only-of-type {\n",
       "        vertical-align: middle;\n",
       "    }\n",
       "\n",
       "    .dataframe tbody tr th {\n",
       "        vertical-align: top;\n",
       "    }\n",
       "\n",
       "    .dataframe thead tr th {\n",
       "        text-align: left;\n",
       "    }\n",
       "\n",
       "    .dataframe thead tr:last-of-type th {\n",
       "        text-align: right;\n",
       "    }\n",
       "</style>\n",
       "<table border=\"1\" class=\"dataframe\">\n",
       "  <thead>\n",
       "    <tr>\n",
       "      <th></th>\n",
       "      <th colspan=\"3\" halign=\"left\">days_since_prior_order</th>\n",
       "      <th colspan=\"3\" halign=\"left\">prices</th>\n",
       "    </tr>\n",
       "    <tr>\n",
       "      <th></th>\n",
       "      <th>min</th>\n",
       "      <th>max</th>\n",
       "      <th>mean</th>\n",
       "      <th>min</th>\n",
       "      <th>max</th>\n",
       "      <th>mean</th>\n",
       "    </tr>\n",
       "    <tr>\n",
       "      <th>department</th>\n",
       "      <th></th>\n",
       "      <th></th>\n",
       "      <th></th>\n",
       "      <th></th>\n",
       "      <th></th>\n",
       "      <th></th>\n",
       "    </tr>\n",
       "  </thead>\n",
       "  <tbody>\n",
       "    <tr>\n",
       "      <th>alcohol</th>\n",
       "      <td>0.0</td>\n",
       "      <td>30.0</td>\n",
       "      <td>10.006658</td>\n",
       "      <td>1.0</td>\n",
       "      <td>15.0</td>\n",
       "      <td>8.150699</td>\n",
       "    </tr>\n",
       "    <tr>\n",
       "      <th>babies</th>\n",
       "      <td>0.0</td>\n",
       "      <td>30.0</td>\n",
       "      <td>9.780844</td>\n",
       "      <td>1.0</td>\n",
       "      <td>15.0</td>\n",
       "      <td>7.634399</td>\n",
       "    </tr>\n",
       "    <tr>\n",
       "      <th>bakery</th>\n",
       "      <td>0.0</td>\n",
       "      <td>30.0</td>\n",
       "      <td>10.808401</td>\n",
       "      <td>1.0</td>\n",
       "      <td>15.0</td>\n",
       "      <td>7.857482</td>\n",
       "    </tr>\n",
       "    <tr>\n",
       "      <th>beverages</th>\n",
       "      <td>0.0</td>\n",
       "      <td>30.0</td>\n",
       "      <td>10.768469</td>\n",
       "      <td>1.0</td>\n",
       "      <td>15.0</td>\n",
       "      <td>7.682556</td>\n",
       "    </tr>\n",
       "    <tr>\n",
       "      <th>breakfast</th>\n",
       "      <td>0.0</td>\n",
       "      <td>30.0</td>\n",
       "      <td>11.001313</td>\n",
       "      <td>1.0</td>\n",
       "      <td>14.9</td>\n",
       "      <td>8.031647</td>\n",
       "    </tr>\n",
       "    <tr>\n",
       "      <th>bulk</th>\n",
       "      <td>0.0</td>\n",
       "      <td>30.0</td>\n",
       "      <td>9.880211</td>\n",
       "      <td>1.4</td>\n",
       "      <td>14.1</td>\n",
       "      <td>8.346919</td>\n",
       "    </tr>\n",
       "    <tr>\n",
       "      <th>canned goods</th>\n",
       "      <td>0.0</td>\n",
       "      <td>30.0</td>\n",
       "      <td>11.316872</td>\n",
       "      <td>1.0</td>\n",
       "      <td>15.0</td>\n",
       "      <td>7.546660</td>\n",
       "    </tr>\n",
       "    <tr>\n",
       "      <th>dairy eggs</th>\n",
       "      <td>0.0</td>\n",
       "      <td>30.0</td>\n",
       "      <td>10.709201</td>\n",
       "      <td>1.0</td>\n",
       "      <td>99999.0</td>\n",
       "      <td>33.114599</td>\n",
       "    </tr>\n",
       "    <tr>\n",
       "      <th>deli</th>\n",
       "      <td>0.0</td>\n",
       "      <td>30.0</td>\n",
       "      <td>11.051389</td>\n",
       "      <td>1.0</td>\n",
       "      <td>15.0</td>\n",
       "      <td>7.783347</td>\n",
       "    </tr>\n",
       "    <tr>\n",
       "      <th>dry goods pasta</th>\n",
       "      <td>0.0</td>\n",
       "      <td>30.0</td>\n",
       "      <td>11.440362</td>\n",
       "      <td>1.0</td>\n",
       "      <td>15.0</td>\n",
       "      <td>7.349370</td>\n",
       "    </tr>\n",
       "    <tr>\n",
       "      <th>frozen</th>\n",
       "      <td>0.0</td>\n",
       "      <td>30.0</td>\n",
       "      <td>11.413880</td>\n",
       "      <td>1.0</td>\n",
       "      <td>15.0</td>\n",
       "      <td>7.733725</td>\n",
       "    </tr>\n",
       "    <tr>\n",
       "      <th>household</th>\n",
       "      <td>0.0</td>\n",
       "      <td>30.0</td>\n",
       "      <td>11.649305</td>\n",
       "      <td>1.0</td>\n",
       "      <td>15.0</td>\n",
       "      <td>7.379951</td>\n",
       "    </tr>\n",
       "    <tr>\n",
       "      <th>international</th>\n",
       "      <td>0.0</td>\n",
       "      <td>30.0</td>\n",
       "      <td>10.963731</td>\n",
       "      <td>1.0</td>\n",
       "      <td>15.0</td>\n",
       "      <td>7.678797</td>\n",
       "    </tr>\n",
       "    <tr>\n",
       "      <th>meat seafood</th>\n",
       "      <td>0.0</td>\n",
       "      <td>30.0</td>\n",
       "      <td>11.123647</td>\n",
       "      <td>8.0</td>\n",
       "      <td>25.0</td>\n",
       "      <td>16.300034</td>\n",
       "    </tr>\n",
       "    <tr>\n",
       "      <th>missing</th>\n",
       "      <td>0.0</td>\n",
       "      <td>30.0</td>\n",
       "      <td>9.869551</td>\n",
       "      <td>1.0</td>\n",
       "      <td>15.0</td>\n",
       "      <td>8.660655</td>\n",
       "    </tr>\n",
       "    <tr>\n",
       "      <th>other</th>\n",
       "      <td>0.0</td>\n",
       "      <td>30.0</td>\n",
       "      <td>10.624647</td>\n",
       "      <td>1.1</td>\n",
       "      <td>15.0</td>\n",
       "      <td>6.961995</td>\n",
       "    </tr>\n",
       "    <tr>\n",
       "      <th>pantry</th>\n",
       "      <td>0.0</td>\n",
       "      <td>30.0</td>\n",
       "      <td>10.835976</td>\n",
       "      <td>1.0</td>\n",
       "      <td>20.0</td>\n",
       "      <td>8.014482</td>\n",
       "    </tr>\n",
       "    <tr>\n",
       "      <th>personal care</th>\n",
       "      <td>0.0</td>\n",
       "      <td>30.0</td>\n",
       "      <td>11.256240</td>\n",
       "      <td>1.0</td>\n",
       "      <td>15.0</td>\n",
       "      <td>7.998744</td>\n",
       "    </tr>\n",
       "    <tr>\n",
       "      <th>pets</th>\n",
       "      <td>0.0</td>\n",
       "      <td>30.0</td>\n",
       "      <td>11.593531</td>\n",
       "      <td>1.0</td>\n",
       "      <td>15.0</td>\n",
       "      <td>7.887489</td>\n",
       "    </tr>\n",
       "    <tr>\n",
       "      <th>produce</th>\n",
       "      <td>0.0</td>\n",
       "      <td>30.0</td>\n",
       "      <td>10.574119</td>\n",
       "      <td>1.0</td>\n",
       "      <td>15.0</td>\n",
       "      <td>7.980348</td>\n",
       "    </tr>\n",
       "    <tr>\n",
       "      <th>snacks</th>\n",
       "      <td>0.0</td>\n",
       "      <td>30.0</td>\n",
       "      <td>10.671110</td>\n",
       "      <td>1.6</td>\n",
       "      <td>7.0</td>\n",
       "      <td>4.275555</td>\n",
       "    </tr>\n",
       "  </tbody>\n",
       "</table>\n",
       "</div>"
      ],
      "text/plain": [
       "                days_since_prior_order                  prices           \\\n",
       "                                   min   max       mean    min      max   \n",
       "department                                                                \n",
       "alcohol                            0.0  30.0  10.006658    1.0     15.0   \n",
       "babies                             0.0  30.0   9.780844    1.0     15.0   \n",
       "bakery                             0.0  30.0  10.808401    1.0     15.0   \n",
       "beverages                          0.0  30.0  10.768469    1.0     15.0   \n",
       "breakfast                          0.0  30.0  11.001313    1.0     14.9   \n",
       "bulk                               0.0  30.0   9.880211    1.4     14.1   \n",
       "canned goods                       0.0  30.0  11.316872    1.0     15.0   \n",
       "dairy eggs                         0.0  30.0  10.709201    1.0  99999.0   \n",
       "deli                               0.0  30.0  11.051389    1.0     15.0   \n",
       "dry goods pasta                    0.0  30.0  11.440362    1.0     15.0   \n",
       "frozen                             0.0  30.0  11.413880    1.0     15.0   \n",
       "household                          0.0  30.0  11.649305    1.0     15.0   \n",
       "international                      0.0  30.0  10.963731    1.0     15.0   \n",
       "meat seafood                       0.0  30.0  11.123647    8.0     25.0   \n",
       "missing                            0.0  30.0   9.869551    1.0     15.0   \n",
       "other                              0.0  30.0  10.624647    1.1     15.0   \n",
       "pantry                             0.0  30.0  10.835976    1.0     20.0   \n",
       "personal care                      0.0  30.0  11.256240    1.0     15.0   \n",
       "pets                               0.0  30.0  11.593531    1.0     15.0   \n",
       "produce                            0.0  30.0  10.574119    1.0     15.0   \n",
       "snacks                             0.0  30.0  10.671110    1.6      7.0   \n",
       "\n",
       "                            \n",
       "                      mean  \n",
       "department                  \n",
       "alcohol           8.150699  \n",
       "babies            7.634399  \n",
       "bakery            7.857482  \n",
       "beverages         7.682556  \n",
       "breakfast         8.031647  \n",
       "bulk              8.346919  \n",
       "canned goods      7.546660  \n",
       "dairy eggs       33.114599  \n",
       "deli              7.783347  \n",
       "dry goods pasta   7.349370  \n",
       "frozen            7.733725  \n",
       "household         7.379951  \n",
       "international     7.678797  \n",
       "meat seafood     16.300034  \n",
       "missing           8.660655  \n",
       "other             6.961995  \n",
       "pantry            8.014482  \n",
       "personal care     7.998744  \n",
       "pets              7.887489  \n",
       "produce           7.980348  \n",
       "snacks            4.275555  "
      ]
     },
     "execution_count": 48,
     "metadata": {},
     "output_type": "execute_result"
    }
   ],
   "source": [
    "goods_stats"
   ]
  },
  {
   "cell_type": "markdown",
   "id": "2606afb8",
   "metadata": {},
   "source": [
    "## Family status"
   ]
  },
  {
   "cell_type": "code",
   "execution_count": 49,
   "id": "77a73503",
   "metadata": {},
   "outputs": [],
   "source": [
    "family_status_stats=df.groupby(['kids_flag']).agg({'days_since_prior_order':['min','max','mean'],'prices':['min','max','mean']})"
   ]
  },
  {
   "cell_type": "code",
   "execution_count": 50,
   "id": "c5e0cc2b",
   "metadata": {},
   "outputs": [
    {
     "data": {
      "text/html": [
       "<div>\n",
       "<style scoped>\n",
       "    .dataframe tbody tr th:only-of-type {\n",
       "        vertical-align: middle;\n",
       "    }\n",
       "\n",
       "    .dataframe tbody tr th {\n",
       "        vertical-align: top;\n",
       "    }\n",
       "\n",
       "    .dataframe thead tr th {\n",
       "        text-align: left;\n",
       "    }\n",
       "\n",
       "    .dataframe thead tr:last-of-type th {\n",
       "        text-align: right;\n",
       "    }\n",
       "</style>\n",
       "<table border=\"1\" class=\"dataframe\">\n",
       "  <thead>\n",
       "    <tr>\n",
       "      <th></th>\n",
       "      <th colspan=\"3\" halign=\"left\">days_since_prior_order</th>\n",
       "      <th colspan=\"3\" halign=\"left\">prices</th>\n",
       "    </tr>\n",
       "    <tr>\n",
       "      <th></th>\n",
       "      <th>min</th>\n",
       "      <th>max</th>\n",
       "      <th>mean</th>\n",
       "      <th>min</th>\n",
       "      <th>max</th>\n",
       "      <th>mean</th>\n",
       "    </tr>\n",
       "    <tr>\n",
       "      <th>kids_flag</th>\n",
       "      <th></th>\n",
       "      <th></th>\n",
       "      <th></th>\n",
       "      <th></th>\n",
       "      <th></th>\n",
       "      <th></th>\n",
       "    </tr>\n",
       "  </thead>\n",
       "  <tbody>\n",
       "    <tr>\n",
       "      <th>kids</th>\n",
       "      <td>0.0</td>\n",
       "      <td>30.0</td>\n",
       "      <td>10.816416</td>\n",
       "      <td>1.0</td>\n",
       "      <td>99999.0</td>\n",
       "      <td>11.877157</td>\n",
       "    </tr>\n",
       "    <tr>\n",
       "      <th>no-kids</th>\n",
       "      <td>0.0</td>\n",
       "      <td>30.0</td>\n",
       "      <td>10.791951</td>\n",
       "      <td>1.0</td>\n",
       "      <td>99999.0</td>\n",
       "      <td>12.102657</td>\n",
       "    </tr>\n",
       "  </tbody>\n",
       "</table>\n",
       "</div>"
      ],
      "text/plain": [
       "          days_since_prior_order                  prices                    \n",
       "                             min   max       mean    min      max       mean\n",
       "kids_flag                                                                   \n",
       "kids                         0.0  30.0  10.816416    1.0  99999.0  11.877157\n",
       "no-kids                      0.0  30.0  10.791951    1.0  99999.0  12.102657"
      ]
     },
     "execution_count": 50,
     "metadata": {},
     "output_type": "execute_result"
    }
   ],
   "source": [
    "family_status_stats"
   ]
  },
  {
   "cell_type": "markdown",
   "id": "68707a66",
   "metadata": {},
   "source": [
    "# 8+9. Profiles by Region and Departments"
   ]
  },
  {
   "cell_type": "markdown",
   "id": "f499d3df",
   "metadata": {},
   "source": [
    "## Age by Region"
   ]
  },
  {
   "cell_type": "code",
   "execution_count": 51,
   "id": "053afa8c",
   "metadata": {},
   "outputs": [],
   "source": [
    "region_age=pd.crosstab(df['Region'],df['age_flag'],dropna=False)\n"
   ]
  },
  {
   "cell_type": "code",
   "execution_count": 52,
   "id": "495b0374",
   "metadata": {},
   "outputs": [
    {
     "data": {
      "image/png": "[encoded data removed]",
      "text/plain": [
       "<Figure size 640x480 with 1 Axes>"
      ]
     },
     "metadata": {},
     "output_type": "display_data"
    }
   ],
   "source": [
    "regions_age=region_age.plot.bar()\n",
    "plt.title('AGE BY REGION',fontweight='bold')\n",
    "plt.show()\n"
   ]
  },
  {
   "cell_type": "markdown",
   "id": "8791ee49",
   "metadata": {},
   "source": [
    "## Age by Department"
   ]
  },
  {
   "cell_type": "code",
   "execution_count": 53,
   "id": "62a2ed36",
   "metadata": {},
   "outputs": [],
   "source": [
    "department_age=pd.crosstab(df['department'],df['age_flag'],dropna=False)"
   ]
  },
  {
   "cell_type": "code",
   "execution_count": 54,
   "id": "6ac2b9df",
   "metadata": {},
   "outputs": [
    {
     "data": {
      "image/png": "[encoded data removed]",
      "text/plain": [
       "<Figure size 640x480 with 1 Axes>"
      ]
     },
     "metadata": {},
     "output_type": "display_data"
    }
   ],
   "source": [
    "departments_age=department_age.plot.bar()\n",
    "plt.title('AGE BY DEPARTMENT',fontweight='bold')\n",
    "plt.show()"
   ]
  },
  {
   "cell_type": "markdown",
   "id": "5f354d42",
   "metadata": {},
   "source": [
    "## Income by region"
   ]
  },
  {
   "cell_type": "code",
   "execution_count": 55,
   "id": "cee64125",
   "metadata": {},
   "outputs": [],
   "source": [
    "region_income=pd.crosstab(df['Region'],df['income_flag'],dropna=False)"
   ]
  },
  {
   "cell_type": "code",
   "execution_count": 56,
   "id": "eed5fe5c",
   "metadata": {},
   "outputs": [
    {
     "data": {
      "image/png": "[encoded data removed]",
      "text/plain": [
       "<Figure size 640x480 with 1 Axes>"
      ]
     },
     "metadata": {},
     "output_type": "display_data"
    }
   ],
   "source": [
    "regions_income=region_income.plot.bar()\n",
    "plt.title('INCOME BY REGION',fontweight='bold')\n",
    "plt.show()"
   ]
  },
  {
   "cell_type": "markdown",
   "id": "36d7ae90",
   "metadata": {},
   "source": [
    "## Income by department"
   ]
  },
  {
   "cell_type": "code",
   "execution_count": 57,
   "id": "e19cd9f8",
   "metadata": {},
   "outputs": [],
   "source": [
    "department_income=pd.crosstab(df['department'],df['income_flag'],dropna=False)"
   ]
  },
  {
   "cell_type": "code",
   "execution_count": 58,
   "id": "32ad3c10",
   "metadata": {},
   "outputs": [
    {
     "data": {
      "image/png": "[encoded data removed]",
      "text/plain": [
       "<Figure size 640x480 with 1 Axes>"
      ]
     },
     "metadata": {},
     "output_type": "display_data"
    }
   ],
   "source": [
    "departments_income=region_income.plot.bar()\n",
    "plt.title('INCOME BY DEPARTMENT',fontweight='bold')\n",
    "plt.show()"
   ]
  },
  {
   "cell_type": "markdown",
   "id": "d457c7e2",
   "metadata": {},
   "source": [
    "## Family status by region"
   ]
  },
  {
   "cell_type": "code",
   "execution_count": 59,
   "id": "b5b9f45b",
   "metadata": {},
   "outputs": [],
   "source": [
    "region_family_status=pd.crosstab(df['Region'],df['kids_flag'],dropna=False)"
   ]
  },
  {
   "cell_type": "code",
   "execution_count": 60,
   "id": "267bde39",
   "metadata": {},
   "outputs": [
    {
     "data": {
      "image/png": "[encoded data removed]",
      "text/plain": [
       "<Figure size 640x480 with 1 Axes>"
      ]
     },
     "metadata": {},
     "output_type": "display_data"
    }
   ],
   "source": [
    "region_family_statuss=region_family_status.plot.bar()\n",
    "plt.title('FAMILY STATUS BY REGION',fontweight='bold')\n",
    "plt.show()"
   ]
  },
  {
   "cell_type": "markdown",
   "id": "a62cd7ef",
   "metadata": {},
   "source": [
    "## Family status by department"
   ]
  },
  {
   "cell_type": "code",
   "execution_count": 61,
   "id": "09725e16",
   "metadata": {},
   "outputs": [],
   "source": [
    "department_family_status=pd.crosstab(df['department'],df['kids_flag'],dropna=False)"
   ]
  },
  {
   "cell_type": "code",
   "execution_count": 62,
   "id": "c141c0cc",
   "metadata": {},
   "outputs": [
    {
     "data": {
      "image/png": "[encoded data removed]",
      "text/plain": [
       "<Figure size 640x480 with 1 Axes>"
      ]
     },
     "metadata": {},
     "output_type": "display_data"
    }
   ],
   "source": [
    "department_family_statuss=department_family_status.plot.bar()\n",
    "plt.title('FAMILY STATUS BY DEPARTMENT',fontweight='bold')\n",
    "plt.show()"
   ]
  },
  {
   "cell_type": "markdown",
   "id": "6d95e11d",
   "metadata": {},
   "source": [
    "**Exporting**"
   ]
  },
  {
   "cell_type": "code",
   "execution_count": 63,
   "id": "819966b4",
   "metadata": {},
   "outputs": [],
   "source": [
    "regions_age.figure.savefig(os.path.join(path,'04 Analysis','Visualizations','age_by_region.png'))"
   ]
  },
  {
   "cell_type": "code",
   "execution_count": 64,
   "id": "15744504",
   "metadata": {},
   "outputs": [],
   "source": [
    "departments_age.figure.savefig(os.path.join(path,'04 Analysis','Visualizations','age_by_department.png'))"
   ]
  },
  {
   "cell_type": "code",
   "execution_count": 65,
   "id": "17f29ca6",
   "metadata": {},
   "outputs": [],
   "source": [
    "regions_income.figure.savefig(os.path.join(path,'04 Analysis','Visualizations','income_by_region.png'))"
   ]
  },
  {
   "cell_type": "code",
   "execution_count": 66,
   "id": "989c7c01",
   "metadata": {},
   "outputs": [],
   "source": [
    "departments_income.figure.savefig(os.path.join(path,'04 Analysis','Visualizations','income_by_department.png'))"
   ]
  },
  {
   "cell_type": "code",
   "execution_count": 67,
   "id": "1df815bf",
   "metadata": {},
   "outputs": [],
   "source": [
    "region_family_statuss.figure.savefig(os.path.join(path,'04 Analysis','Visualizations','family_status_by_region.png'))"
   ]
  },
  {
   "cell_type": "code",
   "execution_count": 68,
   "id": "a5a3fa0d",
   "metadata": {},
   "outputs": [],
   "source": [
    "department_family_statuss.figure.savefig(os.path.join(path,'04 Analysis','Visualizations','family_status_by_department.png'))"
   ]
  },
  {
   "cell_type": "code",
   "execution_count": null,
   "id": "01f67756",
   "metadata": {},
   "outputs": [],
   "source": []
  }
 ],
 "metadata": {
  "kernelspec": {
   "display_name": "Python 3 (ipykernel)",
   "language": "python",
   "name": "python3"
  },
  "language_info": {
   "codemirror_mode": {
    "name": "ipython",
    "version": 3
   },
   "file_extension": ".py",
   "mimetype": "text/x-python",
   "name": "python",
   "nbconvert_exporter": "python",
   "pygments_lexer": "ipython3",
   "version": "3.10.9"
  }
 },
 "nbformat": 4,
 "nbformat_minor": 5
}
