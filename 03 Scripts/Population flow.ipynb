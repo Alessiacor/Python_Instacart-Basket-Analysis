{
 "cells": [
  {
   "cell_type": "code",
   "execution_count": 2,
   "id": "72e5aac5",
   "metadata": {},
   "outputs": [],
   "source": [
    "import pandas as pd\n",
    "import numpy as np\n",
    "import os"
   ]
  },
  {
   "cell_type": "code",
   "execution_count": 3,
   "id": "61fbd9b9",
   "metadata": {},
   "outputs": [],
   "source": [
    "path = r'D:\\alessia\\Instacart basket Analysis - Alessia'"
   ]
  },
  {
   "cell_type": "markdown",
   "id": "a5adb1fb",
   "metadata": {},
   "source": [
    "**check original data**"
   ]
  },
  {
   "cell_type": "code",
   "execution_count": 4,
   "id": "76f40675",
   "metadata": {},
   "outputs": [],
   "source": [
    "orders_original = pd.read_csv(os.path.join(path, '02 Data', 'Original Data', 'orders.csv'), index_col = False)"
   ]
  },
  {
   "cell_type": "code",
   "execution_count": 5,
   "id": "caf555f4",
   "metadata": {},
   "outputs": [
    {
     "name": "stdout",
     "output_type": "stream",
     "text": [
      "<class 'pandas.core.frame.DataFrame'>\n",
      "RangeIndex: 3421083 entries, 0 to 3421082\n",
      "Data columns (total 7 columns):\n",
      " #   Column                  Dtype  \n",
      "---  ------                  -----  \n",
      " 0   order_id                int64  \n",
      " 1   user_id                 int64  \n",
      " 2   eval_set                object \n",
      " 3   order_number            int64  \n",
      " 4   order_dow               int64  \n",
      " 5   order_hour_of_day       int64  \n",
      " 6   days_since_prior_order  float64\n",
      "dtypes: float64(1), int64(5), object(1)\n",
      "memory usage: 182.7+ MB\n"
     ]
    }
   ],
   "source": [
    "orders_original.info()"
   ]
  },
  {
   "cell_type": "code",
   "execution_count": 6,
   "id": "edf78d00",
   "metadata": {},
   "outputs": [],
   "source": [
    "order_products_prior_original = pd.read_csv(os.path.join(path, '02 Data', 'Original Data', 'order_products__prior.csv'), index_col = False)"
   ]
  },
  {
   "cell_type": "code",
   "execution_count": 7,
   "id": "8f021cda",
   "metadata": {},
   "outputs": [
    {
     "name": "stdout",
     "output_type": "stream",
     "text": [
      "<class 'pandas.core.frame.DataFrame'>\n",
      "RangeIndex: 32434489 entries, 0 to 32434488\n",
      "Data columns (total 4 columns):\n",
      " #   Column             Dtype\n",
      "---  ------             -----\n",
      " 0   order_id           int64\n",
      " 1   product_id         int64\n",
      " 2   add_to_cart_order  int64\n",
      " 3   reordered          int64\n",
      "dtypes: int64(4)\n",
      "memory usage: 989.8 MB\n"
     ]
    }
   ],
   "source": [
    "order_products_prior_original.info()"
   ]
  },
  {
   "cell_type": "code",
   "execution_count": 8,
   "id": "7259c388",
   "metadata": {},
   "outputs": [],
   "source": [
    "products_original = pd.read_csv(os.path.join(path, '02 Data', 'Original Data', 'products.csv'), index_col = False)"
   ]
  },
  {
   "cell_type": "code",
   "execution_count": 9,
   "id": "0273e132",
   "metadata": {},
   "outputs": [
    {
     "name": "stdout",
     "output_type": "stream",
     "text": [
      "<class 'pandas.core.frame.DataFrame'>\n",
      "RangeIndex: 49693 entries, 0 to 49692\n",
      "Data columns (total 5 columns):\n",
      " #   Column         Non-Null Count  Dtype  \n",
      "---  ------         --------------  -----  \n",
      " 0   product_id     49693 non-null  int64  \n",
      " 1   product_name   49677 non-null  object \n",
      " 2   aisle_id       49693 non-null  int64  \n",
      " 3   department_id  49693 non-null  int64  \n",
      " 4   prices         49693 non-null  float64\n",
      "dtypes: float64(1), int64(3), object(1)\n",
      "memory usage: 1.9+ MB\n"
     ]
    }
   ],
   "source": [
    "products_original.info()"
   ]
  },
  {
   "cell_type": "code",
   "execution_count": 11,
   "id": "953a2166",
   "metadata": {},
   "outputs": [],
   "source": [
    "customers_original = pd.read_csv(os.path.join(path, '02 Data', 'Original Data', 'customers_original.csv'), index_col = False)"
   ]
  },
  {
   "cell_type": "code",
   "execution_count": 12,
   "id": "a41a0c28",
   "metadata": {},
   "outputs": [
    {
     "name": "stdout",
     "output_type": "stream",
     "text": [
      "<class 'pandas.core.frame.DataFrame'>\n",
      "RangeIndex: 206209 entries, 0 to 206208\n",
      "Data columns (total 10 columns):\n",
      " #   Column        Non-Null Count   Dtype \n",
      "---  ------        --------------   ----- \n",
      " 0   user_id       206209 non-null  int64 \n",
      " 1   First Name    194950 non-null  object\n",
      " 2   Surnam        206209 non-null  object\n",
      " 3   Gender        206209 non-null  object\n",
      " 4   STATE         206209 non-null  object\n",
      " 5   Age           206209 non-null  int64 \n",
      " 6   date_joined   206209 non-null  object\n",
      " 7   n_dependants  206209 non-null  int64 \n",
      " 8   fam_status    206209 non-null  object\n",
      " 9   income        206209 non-null  int64 \n",
      "dtypes: int64(4), object(6)\n",
      "memory usage: 15.7+ MB\n"
     ]
    }
   ],
   "source": [
    "customers_original.info()"
   ]
  },
  {
   "cell_type": "markdown",
   "id": "c0b99d6e",
   "metadata": {},
   "source": [
    "**after consistency checks**"
   ]
  },
  {
   "cell_type": "code",
   "execution_count": 13,
   "id": "dc977dcf",
   "metadata": {},
   "outputs": [],
   "source": [
    "products_checked = pd.read_csv(os.path.join(path, '02 Data', 'Prepared Data', 'products_checked.csv'), index_col = False)"
   ]
  },
  {
   "cell_type": "code",
   "execution_count": 14,
   "id": "37ef9211",
   "metadata": {},
   "outputs": [
    {
     "name": "stdout",
     "output_type": "stream",
     "text": [
      "<class 'pandas.core.frame.DataFrame'>\n",
      "RangeIndex: 49672 entries, 0 to 49671\n",
      "Data columns (total 6 columns):\n",
      " #   Column         Non-Null Count  Dtype  \n",
      "---  ------         --------------  -----  \n",
      " 0   Unnamed: 0     49672 non-null  int64  \n",
      " 1   product_id     49672 non-null  int64  \n",
      " 2   product_name   49672 non-null  object \n",
      " 3   aisle_id       49672 non-null  int64  \n",
      " 4   department_id  49672 non-null  int64  \n",
      " 5   prices         49672 non-null  float64\n",
      "dtypes: float64(1), int64(4), object(1)\n",
      "memory usage: 2.3+ MB\n"
     ]
    }
   ],
   "source": [
    "products_checked.info()"
   ]
  },
  {
   "cell_type": "code",
   "execution_count": 15,
   "id": "977e43f3",
   "metadata": {},
   "outputs": [],
   "source": [
    "orders_checked = pd.read_csv(os.path.join(path, '02 Data', 'Prepared Data', 'orders_checked.csv'), index_col = False)"
   ]
  },
  {
   "cell_type": "code",
   "execution_count": 16,
   "id": "146f8770",
   "metadata": {},
   "outputs": [
    {
     "name": "stdout",
     "output_type": "stream",
     "text": [
      "<class 'pandas.core.frame.DataFrame'>\n",
      "RangeIndex: 3421083 entries, 0 to 3421082\n",
      "Data columns (total 8 columns):\n",
      " #   Column                  Dtype  \n",
      "---  ------                  -----  \n",
      " 0   Unnamed: 0.1            int64  \n",
      " 1   Unnamed: 0              int64  \n",
      " 2   order_id                int64  \n",
      " 3   user_id                 int64  \n",
      " 4   order_number            int64  \n",
      " 5   orders_day_of_week      int64  \n",
      " 6   order_hour_of_day       int64  \n",
      " 7   days_since_prior_order  float64\n",
      "dtypes: float64(1), int64(7)\n",
      "memory usage: 208.8 MB\n"
     ]
    }
   ],
   "source": [
    "orders_checked.info()"
   ]
  },
  {
   "cell_type": "code",
   "execution_count": 17,
   "id": "dd8c2c93",
   "metadata": {},
   "outputs": [],
   "source": [
    "order_products_prior_checked = pd.read_csv(os.path.join(path, '02 Data', 'Original Data', 'order_products__prior.csv'), index_col = False)"
   ]
  },
  {
   "cell_type": "code",
   "execution_count": 18,
   "id": "8828e88b",
   "metadata": {
    "scrolled": true
   },
   "outputs": [
    {
     "name": "stdout",
     "output_type": "stream",
     "text": [
      "<class 'pandas.core.frame.DataFrame'>\n",
      "RangeIndex: 32434489 entries, 0 to 32434488\n",
      "Data columns (total 4 columns):\n",
      " #   Column             Dtype\n",
      "---  ------             -----\n",
      " 0   order_id           int64\n",
      " 1   product_id         int64\n",
      " 2   add_to_cart_order  int64\n",
      " 3   reordered          int64\n",
      "dtypes: int64(4)\n",
      "memory usage: 989.8 MB\n"
     ]
    }
   ],
   "source": [
    "order_products_prior_checked.info()"
   ]
  },
  {
   "cell_type": "code",
   "execution_count": 20,
   "id": "ba6806d4",
   "metadata": {},
   "outputs": [],
   "source": [
    "orders_products_combined = pd.read_pickle(os.path.join(path, '02 Data', 'Prepared Data', 'orders_products_merged.pkl'))"
   ]
  },
  {
   "cell_type": "code",
   "execution_count": 21,
   "id": "bfccb324",
   "metadata": {},
   "outputs": [
    {
     "name": "stdout",
     "output_type": "stream",
     "text": [
      "<class 'pandas.core.frame.DataFrame'>\n",
      "Int64Index: 32404859 entries, 0 to 32404858\n",
      "Data columns (total 17 columns):\n",
      " #   Column                  Dtype   \n",
      "---  ------                  -----   \n",
      " 0   Unnamed: 0.1            int64   \n",
      " 1   Unnamed: 0_x            int64   \n",
      " 2   order_id                int64   \n",
      " 3   user_id                 int64   \n",
      " 4   order_number            int64   \n",
      " 5   orders_day_of_week      int64   \n",
      " 6   order_hour_of_day       int64   \n",
      " 7   days_since_prior_order  float64 \n",
      " 8   product_id              int64   \n",
      " 9   add_to_cart_order       int64   \n",
      " 10  reordered               int64   \n",
      " 11  Unnamed: 0_y            int64   \n",
      " 12  product_name            object  \n",
      " 13  aisle_id                int64   \n",
      " 14  department_id           int64   \n",
      " 15  prices                  float64 \n",
      " 16  _merge                  category\n",
      "dtypes: category(1), float64(2), int64(13), object(1)\n",
      "memory usage: 4.1+ GB\n"
     ]
    }
   ],
   "source": [
    "orders_products_combined.info()"
   ]
  },
  {
   "cell_type": "code",
   "execution_count": 23,
   "id": "bd487e3a",
   "metadata": {},
   "outputs": [],
   "source": [
    "orders_products_merged = pd.read_pickle(os.path.join(path, '02 Data', 'Prepared Data', 'orders_products_merged.pkl'))"
   ]
  },
  {
   "cell_type": "code",
   "execution_count": 24,
   "id": "3ed7ebe6",
   "metadata": {},
   "outputs": [
    {
     "name": "stdout",
     "output_type": "stream",
     "text": [
      "<class 'pandas.core.frame.DataFrame'>\n",
      "Int64Index: 32404859 entries, 0 to 32404858\n",
      "Data columns (total 17 columns):\n",
      " #   Column                  Dtype   \n",
      "---  ------                  -----   \n",
      " 0   Unnamed: 0.1            int64   \n",
      " 1   Unnamed: 0_x            int64   \n",
      " 2   order_id                int64   \n",
      " 3   user_id                 int64   \n",
      " 4   order_number            int64   \n",
      " 5   orders_day_of_week      int64   \n",
      " 6   order_hour_of_day       int64   \n",
      " 7   days_since_prior_order  float64 \n",
      " 8   product_id              int64   \n",
      " 9   add_to_cart_order       int64   \n",
      " 10  reordered               int64   \n",
      " 11  Unnamed: 0_y            int64   \n",
      " 12  product_name            object  \n",
      " 13  aisle_id                int64   \n",
      " 14  department_id           int64   \n",
      " 15  prices                  float64 \n",
      " 16  _merge                  category\n",
      "dtypes: category(1), float64(2), int64(13), object(1)\n",
      "memory usage: 4.1+ GB\n"
     ]
    }
   ],
   "source": [
    "orders_products_merged.info()"
   ]
  },
  {
   "cell_type": "code",
   "execution_count": 25,
   "id": "e4836e4f",
   "metadata": {},
   "outputs": [],
   "source": [
    "final = pd.read_pickle(os.path.join(path, '02 Data', 'Prepared Data', 'final.pkl'))"
   ]
  },
  {
   "cell_type": "code",
   "execution_count": 26,
   "id": "33f61603",
   "metadata": {},
   "outputs": [
    {
     "name": "stdout",
     "output_type": "stream",
     "text": [
      "<class 'pandas.core.frame.DataFrame'>\n",
      "Int64Index: 30964564 entries, 0 to 30964563\n",
      "Data columns (total 35 columns):\n",
      " #   Column                  Dtype   \n",
      "---  ------                  -----   \n",
      " 0   order_id                int64   \n",
      " 1   user_id                 object  \n",
      " 2   order_number            int64   \n",
      " 3   orders_day_of_week      int64   \n",
      " 4   order_hour_of_day       int64   \n",
      " 5   days_since_prior_order  float64 \n",
      " 6   product_id              int64   \n",
      " 7   add_to_cart_order       int64   \n",
      " 8   reordered               int64   \n",
      " 9   product_name            object  \n",
      " 10  aisle_id                int64   \n",
      " 11  department_id           int64   \n",
      " 12  prices                  float64 \n",
      " 13  _merge                  category\n",
      " 14   price_range_loc        object  \n",
      " 15  price_range_loc         object  \n",
      " 16  busiest_day             object  \n",
      " 17  busiest_days            object  \n",
      " 18  busiest_period_of_day   object  \n",
      " 19  max_order               int64   \n",
      " 20  loyalty_flag            object  \n",
      " 21  avg_price_order         float64 \n",
      " 22  spending_flag           object  \n",
      " 23  median_freq             float64 \n",
      " 24  frequency_flag          object  \n",
      " 25  Gender                  object  \n",
      " 26  State                   object  \n",
      " 27  Age                     int64   \n",
      " 28  date_joined             object  \n",
      " 29  n_dependants            int64   \n",
      " 30  fam_status              object  \n",
      " 31  income                  int64   \n",
      " 32  Region                  object  \n",
      " 33  activity_of_customer    object  \n",
      " 34  department              object  \n",
      "dtypes: category(1), float64(4), int64(13), object(17)\n",
      "memory usage: 8.1+ GB\n"
     ]
    }
   ],
   "source": [
    "final.info()"
   ]
  },
  {
   "cell_type": "code",
   "execution_count": null,
   "id": "52127266",
   "metadata": {},
   "outputs": [],
   "source": []
  }
 ],
 "metadata": {
  "kernelspec": {
   "display_name": "Python 3 (ipykernel)",
   "language": "python",
   "name": "python3"
  },
  "language_info": {
   "codemirror_mode": {
    "name": "ipython",
    "version": 3
   },
   "file_extension": ".py",
   "mimetype": "text/x-python",
   "name": "python",
   "nbconvert_exporter": "python",
   "pygments_lexer": "ipython3",
   "version": "3.10.9"
  }
 },
 "nbformat": 4,
 "nbformat_minor": 5
}
